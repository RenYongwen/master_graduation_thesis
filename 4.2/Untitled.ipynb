{
 "cells": [
  {
   "cell_type": "code",
   "execution_count": 2,
   "id": "068427c1-9c86-4ef7-8220-6c85e8413a72",
   "metadata": {},
   "outputs": [],
   "source": [
    "import zipfile\n",
    "\n",
    "# 打开zip文件\n",
    "with zipfile.ZipFile('../data-1/common_voice_kpd.zip', 'r') as zip_ref:\n",
    "    # 解压所有文件到指定目录\n",
    "    zip_ref.extractall('.')\n"
   ]
  },
  {
   "cell_type": "code",
   "execution_count": 15,
   "id": "2eead6bb-e270-4b35-8283-72309b708365",
   "metadata": {},
   "outputs": [
    {
     "data": {
      "text/plain": [
       "tensor([ 0.4152, -0.0122, -0.7208,  ..., -1.5791,  1.0197,  0.3490])"
      ]
     },
     "execution_count": 15,
     "metadata": {},
     "output_type": "execute_result"
    }
   ],
   "source": [
    "torch.randn(32240)"
   ]
  },
  {
   "cell_type": "code",
   "execution_count": 11,
   "id": "cc3dfe01-7601-4504-8658-1cad2eba4277",
   "metadata": {},
   "outputs": [
    {
     "data": {
      "text/plain": [
       "'RIRS_NOISES/simulated_rirs/smallroom/Room131/Room131-00094.wav'"
      ]
     },
     "execution_count": 11,
     "metadata": {},
     "output_type": "execute_result"
    }
   ],
   "source": [
    "import os,glob,random\n",
    "\n",
    "random.choice(glob.glob(os.path.join('RIRS_NOISES','*/*/*/*.wav')))"
   ]
  },
  {
   "cell_type": "code",
   "execution_count": 3,
   "id": "c5d9b8bb-6ef3-43e6-ab69-90b98eab4b06",
   "metadata": {},
   "outputs": [],
   "source": [
    "import tarfile\n",
    "\n",
    "# 打开 tar 文件\n",
    "tar = tarfile.open(\"../data-1/musan.tar.gz\")\n",
    "\n",
    "tar.extractall(path=\".\")\n",
    "\n",
    "# 关闭 tar 文件\n",
    "tar.close()"
   ]
  }
 ],
 "metadata": {
  "kernelspec": {
   "display_name": "Python 3 (ipykernel)",
   "language": "python",
   "name": "python3"
  },
  "language_info": {
   "codemirror_mode": {
    "name": "ipython",
    "version": 3
   },
   "file_extension": ".py",
   "mimetype": "text/x-python",
   "name": "python",
   "nbconvert_exporter": "python",
   "pygments_lexer": "ipython3",
   "version": "3.8.10"
  }
 },
 "nbformat": 4,
 "nbformat_minor": 5
}
